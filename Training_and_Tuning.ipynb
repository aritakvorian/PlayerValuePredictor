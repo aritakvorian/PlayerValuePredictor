{
  "nbformat": 4,
  "nbformat_minor": 0,
  "metadata": {
    "colab": {
      "name": "Training and Tuning",
      "provenance": [],
      "collapsed_sections": [],
      "toc_visible": true
    },
    "kernelspec": {
      "display_name": "Python 3",
      "name": "python3"
    },
    "language_info": {
      "name": "python"
    }
  },
  "cells": [
    {
      "cell_type": "markdown",
      "metadata": {
        "id": "SEPN26OuWfE2"
      },
      "source": [
        "# Player Transfermrket Value Estimator "
      ]
    },
    {
      "cell_type": "code",
      "metadata": {
        "colab": {
          "base_uri": "https://localhost:8080/"
        },
        "id": "kLeGrAGGCz42",
        "outputId": "6d031b3c-1265-454d-d5fc-461dffe14fe3"
      },
      "source": [
        "!pip install -U scikit-learn"
      ],
      "execution_count": null,
      "outputs": [
        {
          "output_type": "stream",
          "name": "stdout",
          "text": [
            "Requirement already satisfied: scikit-learn in /usr/local/lib/python3.7/dist-packages (0.22.2.post1)\n",
            "Collecting scikit-learn\n",
            "  Downloading scikit_learn-1.0-cp37-cp37m-manylinux_2_12_x86_64.manylinux2010_x86_64.whl (23.1 MB)\n",
            "\u001b[K     |████████████████████████████████| 23.1 MB 1.4 MB/s \n",
            "\u001b[?25hRequirement already satisfied: scipy>=1.1.0 in /usr/local/lib/python3.7/dist-packages (from scikit-learn) (1.4.1)\n",
            "Requirement already satisfied: numpy>=1.14.6 in /usr/local/lib/python3.7/dist-packages (from scikit-learn) (1.19.5)\n",
            "Requirement already satisfied: joblib>=0.11 in /usr/local/lib/python3.7/dist-packages (from scikit-learn) (1.0.1)\n",
            "Collecting threadpoolctl>=2.0.0\n",
            "  Downloading threadpoolctl-3.0.0-py3-none-any.whl (14 kB)\n",
            "Installing collected packages: threadpoolctl, scikit-learn\n",
            "  Attempting uninstall: scikit-learn\n",
            "    Found existing installation: scikit-learn 0.22.2.post1\n",
            "    Uninstalling scikit-learn-0.22.2.post1:\n",
            "      Successfully uninstalled scikit-learn-0.22.2.post1\n",
            "Successfully installed scikit-learn-1.0 threadpoolctl-3.0.0\n"
          ]
        }
      ]
    },
    {
      "cell_type": "code",
      "metadata": {
        "id": "cEdnIY5SCRCf"
      },
      "source": [
        "import pandas as pd\n",
        "import math\n",
        "import numpy as np\n",
        "import seaborn as sns\n",
        "import matplotlib.pyplot as plt\n",
        "from matplotlib.pyplot import figure\n",
        "import sklearn\n",
        "from sklearn.model_selection import train_test_split\n",
        "pd.set_option(\"display.max_columns\", None, \"display.max_rows\", None)"
      ],
      "execution_count": null,
      "outputs": []
    },
    {
      "cell_type": "code",
      "metadata": {
        "colab": {
          "base_uri": "https://localhost:8080/"
        },
        "id": "hXqCpfTxDB-Y",
        "outputId": "443aa328-66e1-473a-d6b2-491c894cc0fb"
      },
      "source": [
        "from google.colab import drive\n",
        "drive.mount('/content/gdrive')"
      ],
      "execution_count": null,
      "outputs": [
        {
          "output_type": "stream",
          "name": "stdout",
          "text": [
            "Mounted at /content/gdrive\n"
          ]
        }
      ]
    },
    {
      "cell_type": "code",
      "metadata": {
        "colab": {
          "base_uri": "https://localhost:8080/"
        },
        "id": "Z6oxdutXFgFJ",
        "outputId": "bb6dc40d-8a3e-4f9c-c285-5a46bdd0e8c1"
      },
      "source": [
        "cd gdrive/MyDrive/UT/Plan\\ II\\ \\(General\\)/Thesis/Model"
      ],
      "execution_count": null,
      "outputs": [
        {
          "output_type": "stream",
          "name": "stdout",
          "text": [
            "/content/gdrive/MyDrive/UT/Plan II (General)/Thesis/Model\n"
          ]
        }
      ]
    },
    {
      "cell_type": "code",
      "metadata": {
        "id": "HBnfk4wkFw5V"
      },
      "source": [
        "onethirty_features=pd.read_csv('onethirty_features.csv')"
      ],
      "execution_count": null,
      "outputs": []
    },
    {
      "cell_type": "markdown",
      "metadata": {
        "id": "J_Q4egVEeKIK"
      },
      "source": [
        "## Training and Tuning"
      ]
    },
    {
      "cell_type": "code",
      "metadata": {
        "colab": {
          "base_uri": "https://localhost:8080/"
        },
        "id": "o7RYrsEmeLMJ",
        "outputId": "f48ab0b4-4957-4fcf-9355-8f5780faf996"
      },
      "source": [
        "# Imports\n",
        "!pip install catboost"
      ],
      "execution_count": null,
      "outputs": [
        {
          "output_type": "stream",
          "name": "stdout",
          "text": [
            "Collecting catboost\n",
            "  Downloading catboost-1.0.0-cp37-none-manylinux1_x86_64.whl (76.4 MB)\n",
            "\u001b[K     |████████████████████████████████| 76.4 MB 24 kB/s \n",
            "\u001b[?25hRequirement already satisfied: plotly in /usr/local/lib/python3.7/dist-packages (from catboost) (4.4.1)\n",
            "Requirement already satisfied: pandas>=0.24.0 in /usr/local/lib/python3.7/dist-packages (from catboost) (1.1.5)\n",
            "Requirement already satisfied: matplotlib in /usr/local/lib/python3.7/dist-packages (from catboost) (3.2.2)\n",
            "Requirement already satisfied: numpy>=1.16.0 in /usr/local/lib/python3.7/dist-packages (from catboost) (1.19.5)\n",
            "Requirement already satisfied: graphviz in /usr/local/lib/python3.7/dist-packages (from catboost) (0.10.1)\n",
            "Requirement already satisfied: scipy in /usr/local/lib/python3.7/dist-packages (from catboost) (1.4.1)\n",
            "Requirement already satisfied: six in /usr/local/lib/python3.7/dist-packages (from catboost) (1.15.0)\n",
            "Requirement already satisfied: pytz>=2017.2 in /usr/local/lib/python3.7/dist-packages (from pandas>=0.24.0->catboost) (2018.9)\n",
            "Requirement already satisfied: python-dateutil>=2.7.3 in /usr/local/lib/python3.7/dist-packages (from pandas>=0.24.0->catboost) (2.8.2)\n",
            "Requirement already satisfied: cycler>=0.10 in /usr/local/lib/python3.7/dist-packages (from matplotlib->catboost) (0.10.0)\n",
            "Requirement already satisfied: kiwisolver>=1.0.1 in /usr/local/lib/python3.7/dist-packages (from matplotlib->catboost) (1.3.2)\n",
            "Requirement already satisfied: pyparsing!=2.0.4,!=2.1.2,!=2.1.6,>=2.0.1 in /usr/local/lib/python3.7/dist-packages (from matplotlib->catboost) (2.4.7)\n",
            "Requirement already satisfied: retrying>=1.3.3 in /usr/local/lib/python3.7/dist-packages (from plotly->catboost) (1.3.3)\n",
            "Installing collected packages: catboost\n",
            "Successfully installed catboost-1.0.0\n"
          ]
        }
      ]
    },
    {
      "cell_type": "code",
      "metadata": {
        "id": "z-nXKzDsfdig"
      },
      "source": [
        "import catboost\n",
        "from catboost import CatBoostRegressor, Pool\n",
        "from sklearn.model_selection import RepeatedKFold\n",
        "from sklearn.model_selection import GridSearchCV\n",
        "from sklearn.metrics import mean_absolute_percentage_error\n",
        "from sklearn.metrics import mean_squared_error\n",
        "from sklearn.model_selection import train_test_split"
      ],
      "execution_count": null,
      "outputs": []
    },
    {
      "cell_type": "markdown",
      "metadata": {
        "id": "PLLkYdPOkxlp"
      },
      "source": [
        "Going to train CatBoost on the largest feature set, since it produced the best RMSLE."
      ]
    },
    {
      "cell_type": "markdown",
      "metadata": {
        "id": "5c4tXT-Z1_ho"
      },
      "source": [
        "### Baseline CatBoost"
      ]
    },
    {
      "cell_type": "markdown",
      "metadata": {
        "id": "0Qy1KhgOtKsl"
      },
      "source": [
        "Going to start by seeing what the baseline (not tuned) model does against the test set. Then going to tune some of the hyperparams around what is listed."
      ]
    },
    {
      "cell_type": "code",
      "metadata": {
        "id": "HgFR2zk7cSZp"
      },
      "source": [
        "X_train, X_test, y_train, y_test = train_test_split(onethirty_features.drop(columns=['Log Value']), onethirty_features['Log Value'], random_state=42, test_size=0.1)"
      ],
      "execution_count": null,
      "outputs": []
    },
    {
      "cell_type": "code",
      "metadata": {
        "id": "3--YUzcosCoP"
      },
      "source": [
        "untuned = CatBoostRegressor(loss_function='MAPE')\n",
        "\n",
        "untuned.fit(X_train, y_train)"
      ],
      "execution_count": null,
      "outputs": []
    },
    {
      "cell_type": "code",
      "metadata": {
        "colab": {
          "base_uri": "https://localhost:8080/"
        },
        "id": "uncdCua0ukJ_",
        "outputId": "117389c1-9e4d-436d-f6c2-b2decef2652b"
      },
      "source": [
        "print(f'Train MAPE: {mean_absolute_percentage_error(y_train, untuned.predict(X_train))*100} %')\n",
        "print(f'Test MAPE: {mean_absolute_percentage_error(y_test, untuned.predict(X_test))*100} %')"
      ],
      "execution_count": null,
      "outputs": [
        {
          "output_type": "stream",
          "name": "stdout",
          "text": [
            "Train MAPE: 1.690462453337391 %\n",
            "Test MAPE: 3.7182378366747497 %\n"
          ]
        }
      ]
    },
    {
      "cell_type": "code",
      "metadata": {
        "colab": {
          "base_uri": "https://localhost:8080/"
        },
        "id": "SZzEy9LPshH0",
        "outputId": "42e24254-0ed3-4920-a81d-68df5afa804b"
      },
      "source": [
        "untuned.get_all_params()"
      ],
      "execution_count": null,
      "outputs": [
        {
          "output_type": "execute_result",
          "data": {
            "text/plain": [
              "{'auto_class_weights': 'None',\n",
              " 'bayesian_matrix_reg': 0.10000000149011612,\n",
              " 'best_model_min_trees': 1,\n",
              " 'boost_from_average': True,\n",
              " 'boosting_type': 'Plain',\n",
              " 'bootstrap_type': 'MVS',\n",
              " 'border_count': 254,\n",
              " 'classes_count': 0,\n",
              " 'depth': 6,\n",
              " 'eval_metric': 'MAPE',\n",
              " 'feature_border_type': 'GreedyLogSum',\n",
              " 'grow_policy': 'SymmetricTree',\n",
              " 'iterations': 1000,\n",
              " 'l2_leaf_reg': 3,\n",
              " 'leaf_estimation_backtracking': 'AnyImprovement',\n",
              " 'leaf_estimation_iterations': 1,\n",
              " 'leaf_estimation_method': 'Exact',\n",
              " 'learning_rate': 0.029999999329447743,\n",
              " 'loss_function': 'MAPE',\n",
              " 'max_leaves': 64,\n",
              " 'min_data_in_leaf': 1,\n",
              " 'model_shrink_mode': 'Constant',\n",
              " 'model_shrink_rate': 0,\n",
              " 'model_size_reg': 0.5,\n",
              " 'nan_mode': 'Min',\n",
              " 'penalties_coefficient': 1,\n",
              " 'pool_metainfo_options': {'tags': {}},\n",
              " 'posterior_sampling': False,\n",
              " 'random_seed': 0,\n",
              " 'random_strength': 1,\n",
              " 'rsm': 1,\n",
              " 'sampling_frequency': 'PerTree',\n",
              " 'score_function': 'Cosine',\n",
              " 'sparse_features_conflict_fraction': 0,\n",
              " 'subsample': 0.800000011920929,\n",
              " 'task_type': 'CPU',\n",
              " 'use_best_model': False}"
            ]
          },
          "metadata": {},
          "execution_count": 11
        }
      ]
    },
    {
      "cell_type": "markdown",
      "metadata": {
        "id": "XmILZ4xqd5Ui"
      },
      "source": [
        "Clearly there is some overfitting going on. Going to try tuning to see what can be done."
      ]
    },
    {
      "cell_type": "markdown",
      "metadata": {
        "id": "L3IwbTJe2CfJ"
      },
      "source": [
        "### Tuning 1"
      ]
    },
    {
      "cell_type": "code",
      "metadata": {
        "id": "QeNLRfbuwa3s"
      },
      "source": [
        "cv = RepeatedKFold(n_splits = 3, random_state = 42, n_repeats=2)\n",
        "model = CatBoostRegressor(logging_level='Silent', loss_function='MAPE')\n",
        "\n",
        "grid = {'depth' : [5,6,7],\n",
        "        'learning_rate' : [0.01, 0.025, 0.035],\n",
        "        'iterations'    : [1000, 1250, 1500],\n",
        "        'l2_leaf_reg' : [2,3]\n",
        "       }\n",
        "\n",
        "\n",
        "search = GridSearchCV(model, grid, scoring='neg_mean_absolute_percentage_error', cv=cv, verbose=3)"
      ],
      "execution_count": null,
      "outputs": []
    },
    {
      "cell_type": "code",
      "metadata": {
        "id": "XBFsg8BOx3IT"
      },
      "source": [
        "tuning_one = search.fit(X_train, y_train)"
      ],
      "execution_count": null,
      "outputs": []
    },
    {
      "cell_type": "code",
      "metadata": {
        "colab": {
          "base_uri": "https://localhost:8080/"
        },
        "id": "ac3cHbpk-XPA",
        "outputId": "a9bb40d6-a34b-43e8-fab0-777e3d1debf6"
      },
      "source": [
        "print(tuning_one.best_params_)"
      ],
      "execution_count": null,
      "outputs": [
        {
          "output_type": "stream",
          "name": "stdout",
          "text": [
            "{'depth': 5, 'iterations': 1500, 'l2_leaf_reg': 2, 'learning_rate': 0.035}\n"
          ]
        }
      ]
    },
    {
      "cell_type": "code",
      "metadata": {
        "id": "x7qDtTsFtVDe"
      },
      "source": [
        "# Used to avoid running tuning\n",
        "\n",
        "tuning_one = CatBoostRegressor(depth=5, iterations=1500, l2_leaf_reg = 2, learning_rate = 0.035)\n",
        "tuning_one.fit(X_train, y_train)"
      ],
      "execution_count": null,
      "outputs": []
    },
    {
      "cell_type": "code",
      "metadata": {
        "colab": {
          "base_uri": "https://localhost:8080/"
        },
        "id": "Qlx-br8wvt6r",
        "outputId": "b3d1821c-6ade-47ac-cc7b-3e1418ab14a7"
      },
      "source": [
        "print(f'Train MAPE: {mean_absolute_percentage_error(y_train, tuning_one.predict(X_train))*100} %')\n",
        "print(f'Test MAPE: {mean_absolute_percentage_error(y_test, tuning_one.predict(X_test))*100} %')"
      ],
      "execution_count": null,
      "outputs": [
        {
          "output_type": "stream",
          "name": "stdout",
          "text": [
            "Train MAPE: 1.0748553804005367 %\n",
            "Test MAPE: 3.67079441889439 %\n"
          ]
        }
      ]
    },
    {
      "cell_type": "markdown",
      "metadata": {
        "id": "72ZSJ1Ajt8g_"
      },
      "source": [
        "### Tuning 2 (Overfit Prevention)"
      ]
    },
    {
      "cell_type": "code",
      "metadata": {
        "id": "BM_0MKOsuCjP"
      },
      "source": [
        "cv = RepeatedKFold(n_splits = 3, random_state = 42, n_repeats=2)\n",
        "model = CatBoostRegressor(logging_level='Silent', loss_function='MAPE')\n",
        "\n",
        "grid = {'depth' : [5,6],\n",
        "        'learning_rate' : [0.025, 0.03, 0.035],\n",
        "        'iterations'    : [1250, 1500],\n",
        "        'l2_leaf_reg' : [2,3]\n",
        "       }\n",
        "\n",
        "eval_pool = Pool(X_test, y_test)\n",
        "\n",
        "fit_params = {'eval_set' : eval_pool,\n",
        "              'early_stopping_rounds' : 10\n",
        "             }\n",
        "\n",
        "\n",
        "search = GridSearchCV(model, grid, scoring='neg_mean_absolute_percentage_error', cv=cv, verbose=3)"
      ],
      "execution_count": null,
      "outputs": []
    },
    {
      "cell_type": "code",
      "metadata": {
        "id": "vLDzh4JTv0Sn"
      },
      "source": [
        "tuning_two = search.fit(X_train, y_train, **fit_params)"
      ],
      "execution_count": null,
      "outputs": []
    },
    {
      "cell_type": "code",
      "metadata": {
        "colab": {
          "base_uri": "https://localhost:8080/"
        },
        "id": "h4Rp2mNezR2s",
        "outputId": "677a911e-e2bd-4df7-caf2-445adcca4477"
      },
      "source": [
        "print(tuning_two.best_params_)"
      ],
      "execution_count": null,
      "outputs": [
        {
          "output_type": "stream",
          "name": "stdout",
          "text": [
            "{'depth': 5, 'iterations': 1250, 'l2_leaf_reg': 3, 'learning_rate': 0.03}\n"
          ]
        }
      ]
    },
    {
      "cell_type": "code",
      "metadata": {
        "id": "25-l1K5zzR2u"
      },
      "source": [
        "# Used to avoid running tuning\n",
        "\n",
        "tuning_two = CatBoostRegressor(depth=5, iterations=1250, l2_leaf_reg = 3, learning_rate = 0.03)\n",
        "tuning_two.fit(X_train, y_train)"
      ],
      "execution_count": null,
      "outputs": []
    },
    {
      "cell_type": "code",
      "metadata": {
        "colab": {
          "base_uri": "https://localhost:8080/"
        },
        "id": "GvzNpT0GzR2u",
        "outputId": "8cf2669c-9b01-450e-99cd-ae2fc1ede4da"
      },
      "source": [
        "print(f'Train MAPE: {mean_absolute_percentage_error(y_train, tuning_two.predict(X_train))*100} %')\n",
        "print(f'Test MAPE: {mean_absolute_percentage_error(y_test, tuning_two.predict(X_test))*100} %')"
      ],
      "execution_count": null,
      "outputs": [
        {
          "output_type": "stream",
          "name": "stdout",
          "text": [
            "Train MAPE: 1.5791731473297814 %\n",
            "Test MAPE: 3.6607749095766753 %\n"
          ]
        }
      ]
    },
    {
      "cell_type": "markdown",
      "metadata": {
        "id": "QQ-QTPDEzcg6"
      },
      "source": [
        "### Tuning 3 (More Specific of 1)"
      ]
    },
    {
      "cell_type": "code",
      "metadata": {
        "id": "Wlc4z6GPzgRo"
      },
      "source": [
        "cv = RepeatedKFold(n_splits = 3, random_state = 42, n_repeats=2)\n",
        "model = CatBoostRegressor(logging_level='Silent', loss_function='MAPE')\n",
        "\n",
        "grid = {'depth' : [5],\n",
        "        'learning_rate' : np.arange(0.025, 0.035, 0.001),\n",
        "        'iterations'    : [1250, 1350, 1500],\n",
        "       }\n",
        "\n",
        "eval_pool = Pool(X_test, y_test)\n",
        "\n",
        "fit_params = {'eval_set' : eval_pool,\n",
        "              'early_stopping_rounds' : 10\n",
        "             }\n",
        "\n",
        "\n",
        "search = GridSearchCV(model, grid, scoring='neg_mean_absolute_percentage_error', cv=cv, verbose=3)"
      ],
      "execution_count": null,
      "outputs": []
    },
    {
      "cell_type": "code",
      "metadata": {
        "id": "5PbGV3fezwxL",
        "colab": {
          "base_uri": "https://localhost:8080/",
          "height": 164
        },
        "outputId": "f2be205e-9c88-4e9d-efcd-8e98c49a7308"
      },
      "source": [
        "tuning_three = search.fit(X_train, y_train, **fit_params)"
      ],
      "execution_count": null,
      "outputs": [
        {
          "output_type": "error",
          "ename": "NameError",
          "evalue": "ignored",
          "traceback": [
            "\u001b[0;31m---------------------------------------------------------------------------\u001b[0m",
            "\u001b[0;31mNameError\u001b[0m                                 Traceback (most recent call last)",
            "\u001b[0;32m<ipython-input-16-2f77ac2dd131>\u001b[0m in \u001b[0;36m<module>\u001b[0;34m()\u001b[0m\n\u001b[0;32m----> 1\u001b[0;31m \u001b[0mtuning_three\u001b[0m \u001b[0;34m=\u001b[0m \u001b[0msearch\u001b[0m\u001b[0;34m.\u001b[0m\u001b[0mfit\u001b[0m\u001b[0;34m(\u001b[0m\u001b[0mX_train\u001b[0m\u001b[0;34m,\u001b[0m \u001b[0my_train\u001b[0m\u001b[0;34m,\u001b[0m \u001b[0;34m**\u001b[0m\u001b[0mfit_params\u001b[0m\u001b[0;34m)\u001b[0m\u001b[0;34m\u001b[0m\u001b[0;34m\u001b[0m\u001b[0m\n\u001b[0m",
            "\u001b[0;31mNameError\u001b[0m: name 'search' is not defined"
          ]
        }
      ]
    },
    {
      "cell_type": "code",
      "metadata": {
        "colab": {
          "base_uri": "https://localhost:8080/"
        },
        "id": "IIndCrNdzwxM",
        "outputId": "d5e6b27f-ad1d-4223-9204-0a19dfa9019e"
      },
      "source": [
        "print(tuning_three.best_params_)"
      ],
      "execution_count": null,
      "outputs": [
        {
          "output_type": "stream",
          "name": "stdout",
          "text": [
            "{'depth': 5, 'iterations': 1250, 'learning_rate': 0.03200000000000001}\n"
          ]
        }
      ]
    },
    {
      "cell_type": "code",
      "metadata": {
        "id": "TaMXKMu0zwxM"
      },
      "source": [
        "# Used to avoid running tuning\n",
        "\n",
        "tuning_three = CatBoostRegressor(depth=5, iterations=1250,  learning_rate = 0.032)\n",
        "tuning_three.fit(X_train, y_train)"
      ],
      "execution_count": null,
      "outputs": []
    },
    {
      "cell_type": "code",
      "metadata": {
        "colab": {
          "base_uri": "https://localhost:8080/"
        },
        "id": "frFIUb1szwxN",
        "outputId": "4bff3542-2f7b-4ee3-a291-239382e1ab8c"
      },
      "source": [
        "print(f'Train MAPE: {mean_absolute_percentage_error(y_train, tuning_three.predict(X_train))*100} %')\n",
        "print(f'Test MAPE: {mean_absolute_percentage_error(y_test, tuning_three.predict(X_test))*100} %')"
      ],
      "execution_count": null,
      "outputs": [
        {
          "output_type": "stream",
          "name": "stdout",
          "text": [
            "Train MAPE: 1.472366393690954 %\n",
            "Test MAPE: 3.5880382076856203 %\n"
          ]
        }
      ]
    },
    {
      "cell_type": "markdown",
      "metadata": {
        "id": "CW8EqfnMLC5r"
      },
      "source": [
        "### Tuning 4 (Combination of Tuning 2 and Tuning 3)"
      ]
    },
    {
      "cell_type": "code",
      "metadata": {
        "colab": {
          "base_uri": "https://localhost:8080/"
        },
        "id": "mMHBBq6XLFAy",
        "outputId": "5b47918e-98c2-4489-8b4c-2a9a540bbceb"
      },
      "source": [
        "preds_x = tuning_two.predict(X_test)\n",
        "preds_y = tuning_three.predict(X_test)\n",
        "\n",
        "best_weight_x_arr = np.arange(0.0, 1, 0.01)\n",
        "best_weight_y_arr = np.arange(1, 0.0, -0.01)\n",
        "best_mape_arr = []\n",
        "\n",
        "best_weight_x = 0\n",
        "best_mape_four = 100\n",
        "\n",
        "for j in np.arange(0.0, 1, 0.01):\n",
        "  weight_x = j\n",
        "  weight_y = 1-weight_x\n",
        "\n",
        "  final_preds = []\n",
        "\n",
        "  for i in range(len(X_test)):\n",
        "    pred = (weight_x*preds_x[i]) + (weight_y*preds_y[i])\n",
        "    final_preds.append(pred)\n",
        "\n",
        "  mape = mean_absolute_percentage_error(y_test, final_preds)*100\n",
        "  best_mape_arr.append(mape)\n",
        "  if (mape < best_mape_four):\n",
        "    best_mape_four = mape\n",
        "    best_weight_x = weight_x\n",
        "\n",
        "\n",
        "print(f'Best Weight One: {best_weight_x}, Best Weight Two: {1-best_weight_x}')\n",
        "print(f'Best MAPE: {best_mape_four}')\n",
        "#print(f'Combined MAPE: {mean_absolute_percentage_error(y_test, final_preds)*100} %')\n",
        "\n",
        "\n",
        "print(f'Tuning 2 MAPE: {mean_absolute_percentage_error(y_test, tuning_two.predict(X_test))*100} %')\n",
        "print(f'Tuning 3 MAPE: {mean_absolute_percentage_error(y_test, tuning_three.predict(X_test))*100} %')\n",
        "#print(f'Combined MAPE: {mean_absolute_percentage_error(y_test, final_preds)*100} %')"
      ],
      "execution_count": null,
      "outputs": [
        {
          "output_type": "stream",
          "name": "stdout",
          "text": [
            "Best Weight One: 0.0, Best Weight Two: 1.0\n",
            "Best MAPE: 3.5880382076856203\n",
            "Tuning 2 MAPE: 3.6607749095766753 %\n",
            "Tuning 3 MAPE: 3.5880382076856203 %\n"
          ]
        }
      ]
    },
    {
      "cell_type": "code",
      "metadata": {
        "colab": {
          "base_uri": "https://localhost:8080/",
          "height": 638
        },
        "id": "5fiweJe6VfYd",
        "outputId": "fb5a949b-ebec-4aab-9f80-51048b6e6e93"
      },
      "source": [
        "plt.figure(figsize=(15,10))\n",
        "\n",
        "plt.plot(best_weight_x_arr*100, best_mape_arr, label = 'Tuning #2')\n",
        "plt.plot(best_weight_y_arr*100, best_mape_arr, label = 'Tuning #3')\n",
        "plt.xlabel('Set Weight Weight %')\n",
        "plt.ylabel('Test MAPE')\n",
        "plt.title('Set Weight vs Test MAPE ')\n",
        "plt.legend()"
      ],
      "execution_count": null,
      "outputs": [
        {
          "output_type": "execute_result",
          "data": {
            "text/plain": [
              "<matplotlib.legend.Legend at 0x7f75a4995610>"
            ]
          },
          "metadata": {},
          "execution_count": 42
        },
        {
          "output_type": "display_data",
          "data": {
            "image/png": "[encoded data removed]",
            "text/plain": [
              "<Figure size 1080x720 with 1 Axes>"
            ]
          },
          "metadata": {
            "needs_background": "light"
          }
        }
      ]
    },
    {
      "cell_type": "markdown",
      "metadata": {
        "id": "Zno8sAZpqjtF"
      },
      "source": [
        "### Tuning 5 (Lowering Iterations)"
      ]
    },
    {
      "cell_type": "code",
      "metadata": {
        "id": "duMrQZY1qlAx"
      },
      "source": [
        "cv = RepeatedKFold(n_splits = 3, random_state = 42, n_repeats=2)\n",
        "model = CatBoostRegressor(logging_level='Silent', loss_function='MAPE')\n",
        "\n",
        "grid = {'iterations': [100, 150, 200],\n",
        "        'learning_rate': [0.03, 0.1],\n",
        "        'depth': [2, 4, 6, 8],\n",
        "        'l2_leaf_reg': [0.2, 0.5, 1, 3]}\n",
        "\n",
        "eval_pool = Pool(X_test, y_test)\n",
        "\n",
        "fit_params = {'eval_set' : eval_pool,\n",
        "              'early_stopping_rounds' : 10\n",
        "             }\n",
        "\n",
        "\n",
        "search = GridSearchCV(model, grid, scoring='neg_mean_absolute_percentage_error', cv=cv, verbose=3)"
      ],
      "execution_count": null,
      "outputs": []
    },
    {
      "cell_type": "code",
      "metadata": {
        "id": "ZZneGH8wqrEc"
      },
      "source": [
        "tuning_five = search.fit(X_train, y_train, **fit_params)"
      ],
      "execution_count": null,
      "outputs": []
    },
    {
      "cell_type": "code",
      "metadata": {
        "colab": {
          "base_uri": "https://localhost:8080/"
        },
        "id": "SMDAvIvLwz_R",
        "outputId": "de7e6444-5a32-4f0c-b32a-94330ef1abd6"
      },
      "source": [
        "tuning_five.best_params_"
      ],
      "execution_count": null,
      "outputs": [
        {
          "output_type": "execute_result",
          "data": {
            "text/plain": [
              "{'depth': 4, 'iterations': 150, 'l2_leaf_reg': 3, 'learning_rate': 0.1}"
            ]
          },
          "metadata": {},
          "execution_count": 35
        }
      ]
    },
    {
      "cell_type": "code",
      "metadata": {
        "id": "IfHzZ50jxFWX"
      },
      "source": [
        "tuning_five = CatBoostRegressor(depth=4, iterations=150, l2_leaf_reg=3, learning_rate=0.1)\n",
        "tuning_five.fit(X_train, y_train)"
      ],
      "execution_count": null,
      "outputs": []
    },
    {
      "cell_type": "code",
      "metadata": {
        "colab": {
          "base_uri": "https://localhost:8080/"
        },
        "id": "jRZgL8GXw4Kw",
        "outputId": "2ae2b7a1-e23a-45ba-c757-17ef3825effb"
      },
      "source": [
        "print(f'Test MAPE: {mean_absolute_percentage_error(y_test, tuning_five.predict(X_test))*100} %')"
      ],
      "execution_count": null,
      "outputs": [
        {
          "output_type": "stream",
          "name": "stdout",
          "text": [
            "Test MAPE: 3.6390884913656665 %\n"
          ]
        }
      ]
    },
    {
      "cell_type": "markdown",
      "metadata": {
        "id": "ejamvRP1Oy0s"
      },
      "source": [
        "### Tuning 6 (3 and 5)"
      ]
    },
    {
      "cell_type": "code",
      "metadata": {
        "colab": {
          "base_uri": "https://localhost:8080/"
        },
        "id": "RF2RgbKgO5Sx",
        "outputId": "9da50c5f-4f9d-49fc-d055-bb5e1971af85"
      },
      "source": [
        "preds_x = tuning_three.predict(X_test)\n",
        "preds_y = tuning_five.predict(X_test)\n",
        "\n",
        "best_weight_x_arr = np.arange(0.0, 1, 0.01)\n",
        "best_weight_y_arr = np.arange(1, 0.0, -0.01)\n",
        "best_mape_arr = []\n",
        "\n",
        "best_weight_x = 0\n",
        "best_mape_six = 100\n",
        "\n",
        "for j in np.arange(0.0, 1, 0.01):\n",
        "  weight_x = j\n",
        "  weight_y = 1-weight_x\n",
        "\n",
        "  final_preds = []\n",
        "\n",
        "  for i in range(len(X_test)):\n",
        "    pred = (weight_x*preds_x[i]) + (weight_y*preds_y[i])\n",
        "    final_preds.append(pred)\n",
        "\n",
        "  mape = mean_absolute_percentage_error(y_test, final_preds)*100\n",
        "  best_mape_arr.append(mape)\n",
        "  if (mape < best_mape_six):\n",
        "    best_mape_six = mape\n",
        "    best_weight_x = weight_x\n",
        "\n",
        "\n",
        "print(f'Best Weight One: {best_weight_x}, Best Weight Two: {1-best_weight_x}')\n",
        "print(f'Best MAPE: {best_mape_six}')\n",
        "#print(f'Combined MAPE: {mean_absolute_percentage_error(y_test, final_preds)*100} %')\n",
        "\n",
        "\n",
        "print(f'Tuning 3 MAPE: {mean_absolute_percentage_error(y_test, tuning_three.predict(X_test))*100} %')\n",
        "print(f'Tuning 5 MAPE: {mean_absolute_percentage_error(y_test, tuning_five.predict(X_test))*100} %')\n",
        "#print(f'Combined MAPE: {mean_absolute_percentage_error(y_test, final_preds)*100} %')"
      ],
      "execution_count": null,
      "outputs": [
        {
          "output_type": "stream",
          "name": "stdout",
          "text": [
            "Best Weight One: 0.79, Best Weight Two: 0.20999999999999996\n",
            "Best MAPE: 3.5859942359930006\n",
            "Tuning 3 MAPE: 3.5880382076856203 %\n",
            "Tuning 5 MAPE: 3.6390884913656665 %\n"
          ]
        }
      ]
    },
    {
      "cell_type": "code",
      "metadata": {
        "colab": {
          "base_uri": "https://localhost:8080/",
          "height": 638
        },
        "id": "HNEUOoSwY4Ot",
        "outputId": "aadaebe3-0d9e-43d2-a900-7df3f727d2a3"
      },
      "source": [
        "plt.figure(figsize=(15,10))\n",
        "\n",
        "plt.plot(best_weight_x_arr*100, best_mape_arr, label = 'Tuning #3')\n",
        "plt.plot(best_weight_y_arr*100, best_mape_arr, label = 'Tuning #5')\n",
        "plt.xlabel('Set Weight Weight %')\n",
        "plt.ylabel('Test MAPE')\n",
        "plt.title('Set Weight vs Test MAPE ')\n",
        "plt.legend()"
      ],
      "execution_count": null,
      "outputs": [
        {
          "output_type": "execute_result",
          "data": {
            "text/plain": [
              "<matplotlib.legend.Legend at 0x7f75a4720950>"
            ]
          },
          "metadata": {},
          "execution_count": 45
        },
        {
          "output_type": "display_data",
          "data": {
            "image/png": "[encoded data removed]",
            "text/plain": [
              "<Figure size 1080x720 with 1 Axes>"
            ]
          },
          "metadata": {
            "needs_background": "light"
          }
        }
      ]
    },
    {
      "cell_type": "markdown",
      "metadata": {
        "id": "X80GiV41Y2J5"
      },
      "source": [
        "### Results"
      ]
    },
    {
      "cell_type": "code",
      "metadata": {
        "colab": {
          "base_uri": "https://localhost:8080/",
          "height": 266
        },
        "id": "56N3ObuBQFGH",
        "outputId": "7f6de7f1-3bb7-4ce2-bc8a-fc7452e5ee4c"
      },
      "source": [
        "models_list = {'Tuning #': ['Untuned', 'Tuning #1', 'Tuning #2', 'Tuning #3', 'Tuning #4', 'Tuning #5', 'Tuning #6']}\n",
        "\n",
        "results = pd.DataFrame(data = models_list)\n",
        "\n",
        "linreg = np.zeros(7)\n",
        "results['Best MAPE'] = linreg.copy()\n",
        "\n",
        "results.iat[0, 1] = mean_absolute_percentage_error(y_test, untuned.predict(X_test))*100\n",
        "results.iat[1, 1] = mean_absolute_percentage_error(y_test, tuning_one.predict(X_test))*100\n",
        "results.iat[2, 1] = mean_absolute_percentage_error(y_test, tuning_two.predict(X_test))*100\n",
        "results.iat[3, 1] = mean_absolute_percentage_error(y_test, tuning_three.predict(X_test))*100\n",
        "results.iat[4, 1] = best_mape_four\n",
        "results.iat[5, 1] = mean_absolute_percentage_error(y_test, tuning_five.predict(X_test))*100\n",
        "results.iat[6, 1] = best_mape_six\n",
        "\n",
        "\n",
        "display(results)"
      ],
      "execution_count": null,
      "outputs": [
        {
          "output_type": "display_data",
          "data": {
            "text/html": [
              "<div>\n",
              "<style scoped>\n",
              "    .dataframe tbody tr th:only-of-type {\n",
              "        vertical-align: middle;\n",
              "    }\n",
              "\n",
              "    .dataframe tbody tr th {\n",
              "        vertical-align: top;\n",
              "    }\n",
              "\n",
              "    .dataframe thead th {\n",
              "        text-align: right;\n",
              "    }\n",
              "</style>\n",
              "<table border=\"1\" class=\"dataframe\">\n",
              "  <thead>\n",
              "    <tr style=\"text-align: right;\">\n",
              "      <th></th>\n",
              "      <th>Tuning #</th>\n",
              "      <th>Best MAPE</th>\n",
              "    </tr>\n",
              "  </thead>\n",
              "  <tbody>\n",
              "    <tr>\n",
              "      <th>0</th>\n",
              "      <td>Untuned</td>\n",
              "      <td>3.718238</td>\n",
              "    </tr>\n",
              "    <tr>\n",
              "      <th>1</th>\n",
              "      <td>Tuning #1</td>\n",
              "      <td>3.670794</td>\n",
              "    </tr>\n",
              "    <tr>\n",
              "      <th>2</th>\n",
              "      <td>Tuning #2</td>\n",
              "      <td>3.660775</td>\n",
              "    </tr>\n",
              "    <tr>\n",
              "      <th>3</th>\n",
              "      <td>Tuning #3</td>\n",
              "      <td>3.588038</td>\n",
              "    </tr>\n",
              "    <tr>\n",
              "      <th>4</th>\n",
              "      <td>Tuning #4</td>\n",
              "      <td>3.588038</td>\n",
              "    </tr>\n",
              "    <tr>\n",
              "      <th>5</th>\n",
              "      <td>Tuning #5</td>\n",
              "      <td>3.639088</td>\n",
              "    </tr>\n",
              "    <tr>\n",
              "      <th>6</th>\n",
              "      <td>Tuning #6</td>\n",
              "      <td>3.585994</td>\n",
              "    </tr>\n",
              "  </tbody>\n",
              "</table>\n",
              "</div>"
            ],
            "text/plain": [
              "    Tuning #  Best MAPE\n",
              "0    Untuned   3.718238\n",
              "1  Tuning #1   3.670794\n",
              "2  Tuning #2   3.660775\n",
              "3  Tuning #3   3.588038\n",
              "4  Tuning #4   3.588038\n",
              "5  Tuning #5   3.639088\n",
              "6  Tuning #6   3.585994"
            ]
          },
          "metadata": {}
        }
      ]
    }
  ]
}